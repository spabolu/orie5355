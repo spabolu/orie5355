{
 "cells": [
  {
   "attachments": {},
   "cell_type": "markdown",
   "metadata": {},
   "source": [
    "# ORIE 5355/INFO 5370 HW 1: Survey Weighting"
   ]
  },
  {
   "attachments": {},
   "cell_type": "markdown",
   "metadata": {},
   "source": [
    " - Name: Saketh Pabolu\n",
    " - Net-id: smp382\n",
    " - Date: Sept 14, 2025\n",
    " - Late days used for this assignment: N/A\n",
    " - Total late days used (counting this assignment): N/A\n",
    " - People with whom you discussed this assignment: N/A"
   ]
  },
  {
   "attachments": {},
   "cell_type": "markdown",
   "metadata": {
    "ExecuteTime": {
     "end_time": "2021-09-01T19:23:05.646804Z",
     "start_time": "2021-09-01T19:23:05.610804Z"
    }
   },
   "source": [
    "After you finish the homework, please complete the following (short, anonymous) post-homework survey: https://forms.gle/CdpUFN582d15kZSH9"
   ]
  },
  {
   "attachments": {},
   "cell_type": "markdown",
   "metadata": {},
   "source": [
    "\n",
    "We have marked questions in <font color='green'> green </font>. Please put answers in the default color. You'll want to write text answers in \"markdown\" mode instead of code. In Jupyter notebook, you can go to Cell > Cell Type > Markdown, from the menu. Please carefully read the late days policy and grading procedure [here](https://orie5355.github.io/Fall_2025/assignments/). In that link, we also give some tips on exporting your notebook to PDF, which is required for GradeScope submission. \n",
    "\n",
    "A few notes about this homework:\n",
    "1. This homework is purposefully heavy in using the Pandas package. Being able to explore data is an essential data science skill that you'll use throughout this class and your career -- even if the polling/politics application is not interesting to you. I encourage you to practice Pandas and learn how to use it well. Your code will NOT be graded on efficiency.\n",
    "2. Some of the questions can be interpreted in multiple ways. That is always true in data science. You'll need to make judgment calls for what analysis to do. For the homework, you'll still receive full points for any \"reasonable\" choice. Also feel free to ask questions on EdStem. \n",
    "\n",
    "Note: We sometimes provide sample images of what your output should look like. These are for clarification of what we are looking for. The numbers in the images are not necessarily correct, and your output does not need to look exactly like the images."
   ]
  },
  {
   "attachments": {},
   "cell_type": "markdown",
   "metadata": {},
   "source": [
    "# Conceptual component"
   ]
  },
  {
   "attachments": {},
   "cell_type": "markdown",
   "metadata": {},
   "source": [
    "### 1) Reading"
   ]
  },
  {
   "attachments": {},
   "cell_type": "markdown",
   "metadata": {},
   "source": [
    "<font color='green'> Please read Sections 3 and 4 (pages 6-13) here: https://www.nber.org/system/files/working_papers/w20830/w20830.pdf, and answer the following questions."
   ]
  },
  {
   "attachments": {},
   "cell_type": "markdown",
   "metadata": {},
   "source": [
    "<font color='green'> Please summarize the sections in no more than two sentences. "
   ]
  },
  {
   "cell_type": "markdown",
   "metadata": {},
   "source": [
    "On eBay, seller ratings look almost perfect, but that’s misleading because many unhappy buyers don’t leave feedback. By factoring in silent transactions, the paper's authors create a truer quality measure that shows bigger differences between good and bad sellers."
   ]
  },
  {
   "attachments": {},
   "cell_type": "markdown",
   "metadata": {},
   "source": [
    "<font color='green'> Do you think it's a problem that most ratings are positive? If so, why? Answer in no more than four sentences. Please incorporate concepts discussed in class in your answer. "
   ]
  },
  {
   "cell_type": "markdown",
   "metadata": {},
   "source": [
    "Ratings inflation makes feedback misleading and hard to trust. For example, on eBay, a seller with 98% positive reviews might actually be among the worst performers, but they still look great on paper. This happens because many of us hold back from leaving negative reviews, whether we are worried about retaliation, do not want to hurt someone’s livelihood, or feel pressured to be nice. The problem is that these inflated scores stop reflecting true quality, so you and I cannot really use them to make informed decisions."
   ]
  },
  {
   "attachments": {},
   "cell_type": "markdown",
   "metadata": {},
   "source": [
    "### 2) Personal reflection"
   ]
  },
  {
   "attachments": {},
   "cell_type": "markdown",
   "metadata": {},
   "source": [
    "<font color='green'> Think back to a time that you trained a model on data from people or gathered opinions via a survey (an informal one is fine). If you have not done that before, you may answer these questions about an article in the news that reported on public opinions or a model that you think might be in deployment at a company or organization with which you interact (for example, Amazon, google maps, etc)"
   ]
  },
  {
   "attachments": {},
   "cell_type": "markdown",
   "metadata": {},
   "source": [
    "<font color='green'> Briefly summarize the scenario in no more than two sentences. "
   ]
  },
  {
   "cell_type": "markdown",
   "metadata": {},
   "source": [
    "I came across a report about YouTube’s algorithm taking action to demonetize videos with AI-generated content. According to the report, YouTube’s model identifies videos created using AI and adjusts their ranking in users’ feeds to promote organically created content instead."
   ]
  },
  {
   "attachments": {},
   "cell_type": "markdown",
   "metadata": {},
   "source": [
    "<font color='green'> What was the construct that you cared about/wanted to measure? What was the measurement (numerical data)? In what ways did the measurement not match the construct you cared about? Answer in no more than 4 sentences.  "
   ]
  },
  {
   "cell_type": "markdown",
   "metadata": {},
   "source": [
    "The construct measured here is the authenticity of the video. The measurement used was the percentage of videos from a creator's channel flagged by Youtube's model. The measurement did not perform well because AI-generated content does not always equate to a lack of authenticity. In some cases, AI tools may support creative expression without undermining originality."
   ]
  },
  {
   "attachments": {},
   "cell_type": "markdown",
   "metadata": {},
   "source": [
    "<font color='green'> What selection biases/differential non-response issues occurred and how did it affect your measurement? (If your answer is \"None,\" explain exactly why you believe the assumptions discussed in class were met). Answer in no more than 3 sentences. "
   ]
  },
  {
   "cell_type": "markdown",
   "metadata": {},
   "source": [
    "A selection bias might might have occured because only videos detectable by YouTube’s model were included, excluding AI-generated content that slipped through undetected. This showed there was a differential non-response since some AI-generated videos were able to slip through the model's classification and therefore \"invisible\" to the measurement. As a result, the data underestimated the true prevalence of AI-generated content."
   ]
  },
  {
   "attachments": {},
   "cell_type": "markdown",
   "metadata": {},
   "source": [
    "<font color='green'> Given what we have learned in class so far, what would you do differently if faced with the same scenario again? Answer in no more than 3 sentences. "
   ]
  },
  {
   "cell_type": "markdown",
   "metadata": {},
   "source": [
    "If I were in the engineer's place, I would improve my sample (training dataset) to include statification or weighting techniques to better align my sample to the target population. I would also be more deliberate about how my measurement connects to the construct, ensuring validity from the start. However, I am not sure how I would approach it in practice because AI-generated videos are a new trend and sometimes it is hard to label datasets identifying AI from real videos."
   ]
  },
  {
   "attachments": {},
   "cell_type": "markdown",
   "metadata": {},
   "source": [
    "# Programming component"
   ]
  },
  {
   "attachments": {},
   "cell_type": "markdown",
   "metadata": {},
   "source": [
    "<font color='green'> In this part of the homework, we provide you with data from a poll in Florida before the 2016 Presidential election in the United States. We also provide you with (one pollster's) estimates of who will vote in the 2016 election, made before the election. You will use this data and apply the weighting techniques covered in class."
   ]
  },
  {
   "attachments": {},
   "cell_type": "markdown",
   "metadata": {},
   "source": [
    "## Preliminaries to load packages and data"
   ]
  },
  {
   "cell_type": "code",
   "execution_count": 1,
   "metadata": {
    "ExecuteTime": {
     "end_time": "2021-09-01T20:57:32.311779Z",
     "start_time": "2021-09-01T20:57:32.270775Z"
    }
   },
   "outputs": [],
   "source": [
    "import pandas as pd\n",
    "import numpy as np"
   ]
  },
  {
   "cell_type": "code",
   "execution_count": 2,
   "metadata": {
    "ExecuteTime": {
     "end_time": "2021-09-01T20:57:32.581776Z",
     "start_time": "2021-09-01T20:57:32.454782Z"
    }
   },
   "outputs": [
    {
     "data": {
      "text/html": [
       "<div>\n",
       "<style scoped>\n",
       "    .dataframe tbody tr th:only-of-type {\n",
       "        vertical-align: middle;\n",
       "    }\n",
       "\n",
       "    .dataframe tbody tr th {\n",
       "        vertical-align: top;\n",
       "    }\n",
       "\n",
       "    .dataframe thead th {\n",
       "        text-align: right;\n",
       "    }\n",
       "</style>\n",
       "<table border=\"1\" class=\"dataframe\">\n",
       "  <thead>\n",
       "    <tr style=\"text-align: right;\">\n",
       "      <th></th>\n",
       "      <th>candidate</th>\n",
       "      <th>age</th>\n",
       "      <th>gender</th>\n",
       "      <th>party</th>\n",
       "      <th>race</th>\n",
       "      <th>education</th>\n",
       "    </tr>\n",
       "  </thead>\n",
       "  <tbody>\n",
       "    <tr>\n",
       "      <th>0</th>\n",
       "      <td>Someone else</td>\n",
       "      <td>30-44</td>\n",
       "      <td>Male</td>\n",
       "      <td>Independent</td>\n",
       "      <td>White</td>\n",
       "      <td>College</td>\n",
       "    </tr>\n",
       "    <tr>\n",
       "      <th>1</th>\n",
       "      <td>Hillary Clinton</td>\n",
       "      <td>45-64</td>\n",
       "      <td>Male</td>\n",
       "      <td>Republican</td>\n",
       "      <td>Hispanic</td>\n",
       "      <td>College</td>\n",
       "    </tr>\n",
       "    <tr>\n",
       "      <th>2</th>\n",
       "      <td>Hillary Clinton</td>\n",
       "      <td>30-44</td>\n",
       "      <td>Male</td>\n",
       "      <td>Independent</td>\n",
       "      <td>Hispanic</td>\n",
       "      <td>College</td>\n",
       "    </tr>\n",
       "    <tr>\n",
       "      <th>3</th>\n",
       "      <td>Hillary Clinton</td>\n",
       "      <td>65+</td>\n",
       "      <td>Female</td>\n",
       "      <td>Democrat</td>\n",
       "      <td>White</td>\n",
       "      <td>College</td>\n",
       "    </tr>\n",
       "    <tr>\n",
       "      <th>4</th>\n",
       "      <td>Donald Trump</td>\n",
       "      <td>65+</td>\n",
       "      <td>Female</td>\n",
       "      <td>Republican</td>\n",
       "      <td>White</td>\n",
       "      <td>High School</td>\n",
       "    </tr>\n",
       "  </tbody>\n",
       "</table>\n",
       "</div>"
      ],
      "text/plain": [
       "         candidate    age  gender        party      race    education\n",
       "0     Someone else  30-44    Male  Independent     White      College\n",
       "1  Hillary Clinton  45-64    Male   Republican  Hispanic      College\n",
       "2  Hillary Clinton  30-44    Male  Independent  Hispanic      College\n",
       "3  Hillary Clinton    65+  Female     Democrat     White      College\n",
       "4     Donald Trump    65+  Female   Republican     White  High School"
      ]
     },
     "execution_count": 2,
     "metadata": {},
     "output_type": "execute_result"
    }
   ],
   "source": [
    "dfpoll = pd.read_csv('polling_data_hw1.csv') # raw polling data\n",
    "dfpoll.head()"
   ]
  },
  {
   "cell_type": "code",
   "execution_count": 3,
   "metadata": {
    "ExecuteTime": {
     "end_time": "2021-09-01T20:57:32.658773Z",
     "start_time": "2021-09-01T20:57:32.605777Z"
    }
   },
   "outputs": [
    {
     "data": {
      "text/html": [
       "<div>\n",
       "<style scoped>\n",
       "    .dataframe tbody tr th:only-of-type {\n",
       "        vertical-align: middle;\n",
       "    }\n",
       "\n",
       "    .dataframe tbody tr th {\n",
       "        vertical-align: top;\n",
       "    }\n",
       "\n",
       "    .dataframe thead th {\n",
       "        text-align: right;\n",
       "    }\n",
       "</style>\n",
       "<table border=\"1\" class=\"dataframe\">\n",
       "  <thead>\n",
       "    <tr style=\"text-align: right;\">\n",
       "      <th></th>\n",
       "      <th>Electoral_Proportion</th>\n",
       "      <th>Demographic_Type_1</th>\n",
       "      <th>Demographic_Type_2</th>\n",
       "      <th>Demographic_1</th>\n",
       "      <th>Demographic_2</th>\n",
       "    </tr>\n",
       "  </thead>\n",
       "  <tbody>\n",
       "    <tr>\n",
       "      <th>0</th>\n",
       "      <td>0.388</td>\n",
       "      <td>party</td>\n",
       "      <td>NaN</td>\n",
       "      <td>Democrat</td>\n",
       "      <td>NaN</td>\n",
       "    </tr>\n",
       "    <tr>\n",
       "      <th>1</th>\n",
       "      <td>0.399</td>\n",
       "      <td>party</td>\n",
       "      <td>NaN</td>\n",
       "      <td>Republican</td>\n",
       "      <td>NaN</td>\n",
       "    </tr>\n",
       "    <tr>\n",
       "      <th>2</th>\n",
       "      <td>0.213</td>\n",
       "      <td>party</td>\n",
       "      <td>NaN</td>\n",
       "      <td>Independent</td>\n",
       "      <td>NaN</td>\n",
       "    </tr>\n",
       "    <tr>\n",
       "      <th>3</th>\n",
       "      <td>0.446</td>\n",
       "      <td>gender</td>\n",
       "      <td>NaN</td>\n",
       "      <td>Male</td>\n",
       "      <td>NaN</td>\n",
       "    </tr>\n",
       "    <tr>\n",
       "      <th>4</th>\n",
       "      <td>0.554</td>\n",
       "      <td>gender</td>\n",
       "      <td>NaN</td>\n",
       "      <td>Female</td>\n",
       "      <td>NaN</td>\n",
       "    </tr>\n",
       "  </tbody>\n",
       "</table>\n",
       "</div>"
      ],
      "text/plain": [
       "   Electoral_Proportion Demographic_Type_1 Demographic_Type_2 Demographic_1  \\\n",
       "0                 0.388              party                NaN      Democrat   \n",
       "1                 0.399              party                NaN    Republican   \n",
       "2                 0.213              party                NaN   Independent   \n",
       "3                 0.446             gender                NaN          Male   \n",
       "4                 0.554             gender                NaN        Female   \n",
       "\n",
       "  Demographic_2  \n",
       "0           NaN  \n",
       "1           NaN  \n",
       "2           NaN  \n",
       "3           NaN  \n",
       "4           NaN  "
      ]
     },
     "execution_count": 3,
     "metadata": {},
     "output_type": "execute_result"
    }
   ],
   "source": [
    "dfdemographic = pd.read_csv('florida_proportions_hw1.csv') # proportions of population\n",
    "dfdemographic.head()"
   ]
  },
  {
   "cell_type": "code",
   "execution_count": 4,
   "metadata": {},
   "outputs": [
    {
     "data": {
      "text/html": [
       "<div>\n",
       "<style scoped>\n",
       "    .dataframe tbody tr th:only-of-type {\n",
       "        vertical-align: middle;\n",
       "    }\n",
       "\n",
       "    .dataframe tbody tr th {\n",
       "        vertical-align: top;\n",
       "    }\n",
       "\n",
       "    .dataframe thead th {\n",
       "        text-align: right;\n",
       "    }\n",
       "</style>\n",
       "<table border=\"1\" class=\"dataframe\">\n",
       "  <thead>\n",
       "    <tr style=\"text-align: right;\">\n",
       "      <th></th>\n",
       "      <th>Electoral_Proportion</th>\n",
       "      <th>Demographic_Type_1</th>\n",
       "      <th>Demographic_Type_2</th>\n",
       "      <th>Demographic_1</th>\n",
       "      <th>Demographic_2</th>\n",
       "    </tr>\n",
       "  </thead>\n",
       "  <tbody>\n",
       "    <tr>\n",
       "      <th>112</th>\n",
       "      <td>0.034</td>\n",
       "      <td>race</td>\n",
       "      <td>education</td>\n",
       "      <td>Hispanic</td>\n",
       "      <td>Some College</td>\n",
       "    </tr>\n",
       "    <tr>\n",
       "      <th>113</th>\n",
       "      <td>0.028</td>\n",
       "      <td>race</td>\n",
       "      <td>education</td>\n",
       "      <td>Hispanic</td>\n",
       "      <td>College</td>\n",
       "    </tr>\n",
       "    <tr>\n",
       "      <th>114</th>\n",
       "      <td>0.011</td>\n",
       "      <td>race</td>\n",
       "      <td>education</td>\n",
       "      <td>Other</td>\n",
       "      <td>High School</td>\n",
       "    </tr>\n",
       "    <tr>\n",
       "      <th>115</th>\n",
       "      <td>0.011</td>\n",
       "      <td>race</td>\n",
       "      <td>education</td>\n",
       "      <td>Other</td>\n",
       "      <td>Some College</td>\n",
       "    </tr>\n",
       "    <tr>\n",
       "      <th>116</th>\n",
       "      <td>0.015</td>\n",
       "      <td>race</td>\n",
       "      <td>education</td>\n",
       "      <td>Other</td>\n",
       "      <td>College</td>\n",
       "    </tr>\n",
       "  </tbody>\n",
       "</table>\n",
       "</div>"
      ],
      "text/plain": [
       "     Electoral_Proportion Demographic_Type_1 Demographic_Type_2 Demographic_1  \\\n",
       "112                 0.034               race          education      Hispanic   \n",
       "113                 0.028               race          education      Hispanic   \n",
       "114                 0.011               race          education         Other   \n",
       "115                 0.011               race          education         Other   \n",
       "116                 0.015               race          education         Other   \n",
       "\n",
       "    Demographic_2  \n",
       "112  Some College  \n",
       "113       College  \n",
       "114   High School  \n",
       "115  Some College  \n",
       "116       College  "
      ]
     },
     "execution_count": 4,
     "metadata": {},
     "output_type": "execute_result"
    }
   ],
   "source": [
    "dfdemographic.tail()"
   ]
  },
  {
   "attachments": {},
   "cell_type": "markdown",
   "metadata": {},
   "source": [
    "`dfdemographic` contains estimates of likely voters in Florida in 2016. When `Demographic_Type_2` is `NaN`, the row refers to just the marginal population percentage of the group in `Demographic_1` of type `Demographic_Type_1`. When it is not `NaN`, the row has the joint distribution of the corresponding demographic groups.\n",
    "\n",
    "For example, row 0 means that 38.8% of the electorate is from the Democrat party. Row 113 means that 2.8% of the electorate is Hispanic AND graduated college. "
   ]
  },
  {
   "attachments": {},
   "cell_type": "markdown",
   "metadata": {},
   "source": [
    "## Part A: Raw visualization"
   ]
  },
  {
   "attachments": {},
   "cell_type": "markdown",
   "metadata": {},
   "source": [
    "<font color='green'> Here, we'll visualize whether the respondents in the poll match the likely voter estimates. Create a scatter-plot where each point represents one Demographic group (for example, people who identify as Independet: party-Independent), where the X axis is the `Electoral_Proportion` in `dfdemographic`, and the Y axis is the proportion in `dfpoll` (Hint: you will need to calculate this yourself). "
   ]
  },
  {
   "cell_type": "code",
   "execution_count": 5,
   "metadata": {},
   "outputs": [
    {
     "data": {
      "text/html": [
       "<div>\n",
       "<style scoped>\n",
       "    .dataframe tbody tr th:only-of-type {\n",
       "        vertical-align: middle;\n",
       "    }\n",
       "\n",
       "    .dataframe tbody tr th {\n",
       "        vertical-align: top;\n",
       "    }\n",
       "\n",
       "    .dataframe thead th {\n",
       "        text-align: right;\n",
       "    }\n",
       "</style>\n",
       "<table border=\"1\" class=\"dataframe\">\n",
       "  <thead>\n",
       "    <tr style=\"text-align: right;\">\n",
       "      <th></th>\n",
       "      <th>Demographic_1</th>\n",
       "      <th>poll_proportion</th>\n",
       "      <th>Demographic_Type_1</th>\n",
       "      <th>Demographic_Type_2</th>\n",
       "      <th>Demographic_2</th>\n",
       "    </tr>\n",
       "  </thead>\n",
       "  <tbody>\n",
       "    <tr>\n",
       "      <th>0</th>\n",
       "      <td>College</td>\n",
       "      <td>0.435986</td>\n",
       "      <td>education</td>\n",
       "      <td>nan</td>\n",
       "      <td>nan</td>\n",
       "    </tr>\n",
       "    <tr>\n",
       "      <th>1</th>\n",
       "      <td>Some College</td>\n",
       "      <td>0.352941</td>\n",
       "      <td>education</td>\n",
       "      <td>nan</td>\n",
       "      <td>nan</td>\n",
       "    </tr>\n",
       "    <tr>\n",
       "      <th>2</th>\n",
       "      <td>High School</td>\n",
       "      <td>0.197232</td>\n",
       "      <td>education</td>\n",
       "      <td>nan</td>\n",
       "      <td>nan</td>\n",
       "    </tr>\n",
       "    <tr>\n",
       "      <th>3</th>\n",
       "      <td>Refused</td>\n",
       "      <td>0.013841</td>\n",
       "      <td>education</td>\n",
       "      <td>nan</td>\n",
       "      <td>nan</td>\n",
       "    </tr>\n",
       "  </tbody>\n",
       "</table>\n",
       "</div>"
      ],
      "text/plain": [
       "  Demographic_1  poll_proportion Demographic_Type_1 Demographic_Type_2  \\\n",
       "0       College         0.435986          education                nan   \n",
       "1  Some College         0.352941          education                nan   \n",
       "2   High School         0.197232          education                nan   \n",
       "3       Refused         0.013841          education                nan   \n",
       "\n",
       "  Demographic_2  \n",
       "0           nan  \n",
       "1           nan  \n",
       "2           nan  \n",
       "3           nan  "
      ]
     },
     "execution_count": 5,
     "metadata": {},
     "output_type": "execute_result"
    }
   ],
   "source": [
    "for col in [\"Demographic_Type_1\",\"Demographic_Type_2\",\"Demographic_1\",\"Demographic_2\"]:\n",
    "    dfdemographic[col] = dfdemographic[col].astype(str)\n",
    "\n",
    "poll_props = []\n",
    "temp = pd.DataFrame()\n",
    "\n",
    "for col in [\"party\", \"gender\", \"age\", \"race\", \"education\"]:\n",
    "    temp = dfpoll[col].value_counts(normalize=True).reset_index()\n",
    "    temp.columns = [\"Demographic_1\", \"poll_proportion\"]\n",
    "    temp[\"Demographic_Type_1\"] = col\n",
    "    temp[\"Demographic_Type_2\"] = \"nan\"\n",
    "    temp[\"Demographic_2\"] = \"nan\"\n",
    "    poll_props.append(temp)\n",
    "\n",
    "temp.head()"
   ]
  },
  {
   "cell_type": "code",
   "execution_count": 6,
   "metadata": {},
   "outputs": [],
   "source": [
    "def joint_props(col1, col2):\n",
    "    temp = dfpoll.groupby([col1, col2]).size() / len(dfpoll)\n",
    "    temp = temp.reset_index(name=\"poll_proportion\")\n",
    "    temp = temp.rename(columns={col1: \"Demographic_1\", col2: \"Demographic_2\"})\n",
    "    temp[\"Demographic_Type_1\"] = col1\n",
    "    temp[\"Demographic_Type_2\"] = col2\n",
    "    return temp"
   ]
  },
  {
   "cell_type": "code",
   "execution_count": 7,
   "metadata": {},
   "outputs": [
    {
     "data": {
      "text/html": [
       "<div>\n",
       "<style scoped>\n",
       "    .dataframe tbody tr th:only-of-type {\n",
       "        vertical-align: middle;\n",
       "    }\n",
       "\n",
       "    .dataframe tbody tr th {\n",
       "        vertical-align: top;\n",
       "    }\n",
       "\n",
       "    .dataframe thead th {\n",
       "        text-align: right;\n",
       "    }\n",
       "</style>\n",
       "<table border=\"1\" class=\"dataframe\">\n",
       "  <thead>\n",
       "    <tr style=\"text-align: right;\">\n",
       "      <th></th>\n",
       "      <th>Electoral_Proportion</th>\n",
       "      <th>Demographic_Type_1</th>\n",
       "      <th>Demographic_Type_2</th>\n",
       "      <th>Demographic_1</th>\n",
       "      <th>Demographic_2</th>\n",
       "      <th>poll_proportion</th>\n",
       "    </tr>\n",
       "  </thead>\n",
       "  <tbody>\n",
       "    <tr>\n",
       "      <th>0</th>\n",
       "      <td>0.388</td>\n",
       "      <td>party</td>\n",
       "      <td>nan</td>\n",
       "      <td>Democrat</td>\n",
       "      <td>nan</td>\n",
       "      <td>0.358708</td>\n",
       "    </tr>\n",
       "    <tr>\n",
       "      <th>1</th>\n",
       "      <td>0.399</td>\n",
       "      <td>party</td>\n",
       "      <td>nan</td>\n",
       "      <td>Republican</td>\n",
       "      <td>nan</td>\n",
       "      <td>0.272203</td>\n",
       "    </tr>\n",
       "    <tr>\n",
       "      <th>2</th>\n",
       "      <td>0.213</td>\n",
       "      <td>party</td>\n",
       "      <td>nan</td>\n",
       "      <td>Independent</td>\n",
       "      <td>nan</td>\n",
       "      <td>0.348328</td>\n",
       "    </tr>\n",
       "    <tr>\n",
       "      <th>3</th>\n",
       "      <td>0.446</td>\n",
       "      <td>gender</td>\n",
       "      <td>nan</td>\n",
       "      <td>Male</td>\n",
       "      <td>nan</td>\n",
       "      <td>0.491349</td>\n",
       "    </tr>\n",
       "    <tr>\n",
       "      <th>4</th>\n",
       "      <td>0.554</td>\n",
       "      <td>gender</td>\n",
       "      <td>nan</td>\n",
       "      <td>Female</td>\n",
       "      <td>nan</td>\n",
       "      <td>0.508651</td>\n",
       "    </tr>\n",
       "  </tbody>\n",
       "</table>\n",
       "</div>"
      ],
      "text/plain": [
       "   Electoral_Proportion Demographic_Type_1 Demographic_Type_2 Demographic_1  \\\n",
       "0                 0.388              party                nan      Democrat   \n",
       "1                 0.399              party                nan    Republican   \n",
       "2                 0.213              party                nan   Independent   \n",
       "3                 0.446             gender                nan          Male   \n",
       "4                 0.554             gender                nan        Female   \n",
       "\n",
       "  Demographic_2  poll_proportion  \n",
       "0           nan         0.358708  \n",
       "1           nan         0.272203  \n",
       "2           nan         0.348328  \n",
       "3           nan         0.491349  \n",
       "4           nan         0.508651  "
      ]
     },
     "execution_count": 7,
     "metadata": {},
     "output_type": "execute_result"
    }
   ],
   "source": [
    "joint_types = dfdemographic[dfdemographic[\"Demographic_Type_2\"]!=\"nan\"][[\"Demographic_Type_1\",\"Demographic_Type_2\"]].drop_duplicates()\n",
    "for _, row in joint_types.iterrows():\n",
    "    poll_props.append(joint_props(row[\"Demographic_Type_1\"], row[\"Demographic_Type_2\"]))\n",
    "    \n",
    "dfpoll_props = pd.concat(poll_props, ignore_index=True)\n",
    "\n",
    "merged = dfdemographic.merge(\n",
    "    dfpoll_props,\n",
    "    on=[\"Demographic_Type_1\",\"Demographic_Type_2\",\"Demographic_1\",\"Demographic_2\"],\n",
    "    how=\"left\"\n",
    ")\n",
    "\n",
    "merged.head()"
   ]
  },
  {
   "cell_type": "code",
   "execution_count": 8,
   "metadata": {},
   "outputs": [
    {
     "data": {
      "image/png": "[encoded data removed]",
      "text/plain": [
       "<Figure size 700x700 with 1 Axes>"
      ]
     },
     "metadata": {},
     "output_type": "display_data"
    }
   ],
   "source": [
    "import matplotlib.pyplot as plt\n",
    "\n",
    "plt.figure(figsize=(7,7))\n",
    "plt.scatter(merged[\"Electoral_Proportion\"], merged[\"poll_proportion\"])\n",
    "plt.plot([0,1], [0,1], \"r--\")\n",
    "\n",
    "marginals = merged[merged[\"Demographic_Type_2\"] == \"nan\"]\n",
    "for _, row in marginals.iterrows():\n",
    "    plt.text(row[\"Electoral_Proportion\"], row[\"poll_proportion\"], row[\"Demographic_1\"], fontsize=7)\n",
    "\n",
    "plt.xlabel(\"Population Proportion\")\n",
    "plt.ylabel(\"Poll Proportion\")\n",
    "plt.title(\"Poll (Sample) vs Population\")\n",
    "plt.show()"
   ]
  },
  {
   "attachments": {},
   "cell_type": "markdown",
   "metadata": {},
   "source": [
    "<font color='green'> `dfdemographic` tells us the true proportion of each demographic group in the entire population, the calculated proportion from dfpoll tells us the proportion of each demographic group represented in the poll. For a poll to be representative of the population, ideally we would want the latter to be the same as the former. However, this is hard to achieve in practice.\n",
    "\n",
    "\n",
    "In your view, which group is most over-represented? Most under-represented? Why? Answer in no more than 3 sentences. There are multiple reasonable definitions of \"over\" or \"under\" represented; any choice is fine as long as you justify your answer.</font>"
   ]
  },
  {
   "cell_type": "code",
   "execution_count": 9,
   "metadata": {},
   "outputs": [
    {
     "data": {
      "text/plain": [
       "(Demographic_Type_1          party\n",
       " Demographic_1         Independent\n",
       " diff                     0.135328\n",
       " Name: 2, dtype: object,\n",
       " Demographic_Type_1      education\n",
       " Demographic_1         High School\n",
       " diff                    -0.176768\n",
       " Name: 13, dtype: object)"
      ]
     },
     "execution_count": 9,
     "metadata": {},
     "output_type": "execute_result"
    }
   ],
   "source": [
    "merged[\"diff\"] = merged[\"poll_proportion\"] - merged[\"Electoral_Proportion\"]\n",
    "\n",
    "over = merged.loc[merged[\"diff\"].idxmax()][[\"Demographic_Type_1\", \"Demographic_1\", \"diff\"]]\n",
    "under = merged.loc[merged[\"diff\"].idxmin()][[\"Demographic_Type_1\", \"Demographic_1\", \"diff\"]]\n",
    "\n",
    "over, under"
   ]
  },
  {
   "cell_type": "markdown",
   "metadata": {},
   "source": [
    "From the table, we can see that the most over-represented group is the __Independents__, whereas the least represented group is those with a __High School__ education."
   ]
  },
  {
   "attachments": {},
   "cell_type": "markdown",
   "metadata": {},
   "source": [
    "## Part B: Weighting"
   ]
  },
  {
   "attachments": {},
   "cell_type": "markdown",
   "metadata": {},
   "source": [
    "<font color='green'> For this question, we'll ignore people who answered anything but \"Hillary Clinton\" or \"Donald Trump.\"\n",
    "\n",
    "\n",
    "You'll notice that some of the groups in the polling data (\"refused\") do not show up in the population percentages. For the questions that require weighting by demographics, ignore those respondents.\n",
    "\n"
   ]
  },
  {
   "cell_type": "code",
   "execution_count": 10,
   "metadata": {},
   "outputs": [
    {
     "data": {
      "text/plain": [
       "candidate\n",
       "Donald Trump       327\n",
       "Hillary Clinton    393\n",
       "dtype: int64"
      ]
     },
     "execution_count": 10,
     "metadata": {},
     "output_type": "execute_result"
    }
   ],
   "source": [
    "dfvote = dfpoll[dfpoll[\"candidate\"].isin([\"Hillary Clinton\",\"Donald Trump\"])]\n",
    "\n",
    "dfvote.groupby(\"candidate\").size()"
   ]
  },
  {
   "attachments": {},
   "cell_type": "markdown",
   "metadata": {},
   "source": [
    "### 1) Raw average"
   ]
  },
  {
   "attachments": {},
   "cell_type": "markdown",
   "metadata": {},
   "source": [
    "<font color='green'> Below, report the \"raw polling average,\" the percentage of people \"Hillary Clinton\" divided by the number who answered either Hillary or Trump."
   ]
  },
  {
   "cell_type": "code",
   "execution_count": 11,
   "metadata": {},
   "outputs": [
    {
     "name": "stdout",
     "output_type": "stream",
     "text": [
      "Raw Polling Average for Clinton: 54.6 % Trump: 45.4 %\n"
     ]
    }
   ],
   "source": [
    "raw_counts = dfvote[\"candidate\"].value_counts(normalize=True)\n",
    "clinton_raw = raw_counts[\"Hillary Clinton\"]\n",
    "trump_raw = raw_counts[\"Donald Trump\"]\n",
    "\n",
    "print(\"Raw Polling Average for Clinton:\", round(clinton_raw,3) * 100, \"%\",\n",
    "      \"Trump:\", round(trump_raw,3) * 100, \"%\")\n"
   ]
  },
  {
   "attachments": {},
   "cell_type": "markdown",
   "metadata": {},
   "source": [
    "### 2) Single dimensional marginal weighting (on just 1 demographic type)"
   ]
  },
  {
   "cell_type": "code",
   "execution_count": 12,
   "metadata": {},
   "outputs": [
    {
     "name": "stdout",
     "output_type": "stream",
     "text": [
      "Weighted by gender:\n",
      " candidate\n",
      "Donald Trump       0.4502\n",
      "Hillary Clinton    0.5498\n",
      "Name: weighted_prop, dtype: float64\n"
     ]
    }
   ],
   "source": [
    "pop_gender = dfdemographic[dfdemographic[\"Demographic_Type_1\"]==\"gender\"]\n",
    "pop_gender = pop_gender[pop_gender[\"Demographic_Type_2\"]==\"nan\"]\n",
    "pop_gender = dict(zip(pop_gender[\"Demographic_1\"], pop_gender[\"Electoral_Proportion\"]))\n",
    "\n",
    "\n",
    "poll_gender_counts = dfvote.groupby([\"gender\", \"candidate\"]).size()\n",
    "gender_totals = dfvote.groupby(\"gender\").size()\n",
    "poll_gender = (poll_gender_counts / gender_totals).reset_index(name=\"prop\")\n",
    "\n",
    "poll_gender[\"weight\"] = poll_gender[\"gender\"].map(pop_gender)\n",
    "poll_gender[\"weighted_prop\"] = poll_gender[\"prop\"] * poll_gender[\"weight\"]\n",
    "\n",
    "result_gender = poll_gender.groupby(\"candidate\")[\"weighted_prop\"].sum().round(4)\n",
    "print(\"Weighted by gender:\\n\", result_gender)\n"
   ]
  },
  {
   "attachments": {},
   "cell_type": "markdown",
   "metadata": {},
   "source": [
    "<font color='green'> For each demographic type separately -- age, gender, party, race, and education -- weight the poll by just that demographic type, in accordance to the population proportions given. Report the resulting poll results, and briefly (at most 3 sentences) describe what you observe.\n",
    "\n",
    "\n",
    "For example, when weighted by race, you'll report:\n",
    "\n",
    "Weighted by race --- Clinton: 0.531, Trump: 0.469\n",
    "\n",
    "(your results might be different due to rounding/precision, but we do not expect the difference to be large)\n"
   ]
  },
  {
   "cell_type": "code",
   "execution_count": 13,
   "metadata": {},
   "outputs": [
    {
     "name": "stdout",
     "output_type": "stream",
     "text": [
      "Weighted by age:\n",
      "candidate\n",
      "Donald Trump       0.4694\n",
      "Hillary Clinton    0.5306\n",
      "Name: weighted_prop, dtype: float64 \n",
      "\n",
      "Weighted by party:\n",
      "candidate\n",
      "Donald Trump       0.5013\n",
      "Hillary Clinton    0.4987\n",
      "Name: weighted_prop, dtype: float64 \n",
      "\n",
      "Weighted by race:\n",
      "candidate\n",
      "Donald Trump       0.4697\n",
      "Hillary Clinton    0.5313\n",
      "Name: weighted_prop, dtype: float64 \n",
      "\n",
      "Weighted by education:\n",
      "candidate\n",
      "Donald Trump       0.4559\n",
      "Hillary Clinton    0.5441\n",
      "Name: weighted_prop, dtype: float64 \n",
      "\n"
     ]
    }
   ],
   "source": [
    "for demographic in [\"age\", \"party\", \"race\", \"education\"]:\n",
    "    pop_demo = dfdemographic[\n",
    "    (dfdemographic[\"Demographic_Type_1\"] == demographic) &\n",
    "    (dfdemographic[\"Demographic_Type_2\"] == \"nan\")\n",
    "    ]\n",
    "    pop_demo = dict(zip(pop_demo[\"Demographic_1\"], pop_demo[\"Electoral_Proportion\"]))\n",
    "\n",
    "    poll_demo = dfvote.groupby([demographic, \"candidate\"]).size() / dfvote.groupby(demographic).size()\n",
    "    poll_demo = poll_demo.reset_index(name=\"prop\")\n",
    "\n",
    "    poll_demo[\"weight\"] = poll_demo[demographic].map(pop_demo)\n",
    "    poll_demo[\"weighted_prop\"] = poll_demo[\"prop\"] * poll_demo[\"weight\"]\n",
    "    result = poll_demo.groupby(\"candidate\")[\"weighted_prop\"].sum().round(4)\n",
    "\n",
    "    print(f\"Weighted by {demographic}:\")\n",
    "    print(result.round(6), \"\\n\")"
   ]
  },
  {
   "attachments": {},
   "cell_type": "markdown",
   "metadata": {},
   "source": [
    "### 2-dimensional joint distribution weighting"
   ]
  },
  {
   "attachments": {},
   "cell_type": "markdown",
   "metadata": {},
   "source": [
    "<font color='green'>Now, for each pair of demographic types in dfdemographic, do the same -- weight the poll by that pair of demographic types, in accordance to the given joint distributions, and briefly (at most 3 sentences) describe what you observe.\n",
    "\n",
    "For example, when weighted by race and age, you'll find:\n",
    "\n",
    "Weighted by age and race: Clinton: 0.523, Trump: 0.477"
   ]
  },
  {
   "cell_type": "code",
   "execution_count": 14,
   "metadata": {},
   "outputs": [
    {
     "name": "stdout",
     "output_type": "stream",
     "text": [
      "\n",
      "Weighted by age + race:\n",
      "candidate\n",
      "Donald Trump       0.475569\n",
      "Hillary Clinton    0.523431\n",
      "Name: weighted_prop, dtype: float64\n",
      "\n",
      "Weighted by age + education:\n",
      "candidate\n",
      "Donald Trump       0.473932\n",
      "Hillary Clinton    0.525068\n",
      "Name: weighted_prop, dtype: float64\n",
      "\n",
      "Weighted by race + education:\n",
      "candidate\n",
      "Donald Trump       0.48592\n",
      "Hillary Clinton    0.51508\n",
      "Name: weighted_prop, dtype: float64\n",
      "\n",
      "Weighted by race + gender:\n",
      "candidate\n",
      "Donald Trump       0.0\n",
      "Hillary Clinton    0.0\n",
      "Name: weighted_prop, dtype: float64\n",
      "\n",
      "Weighted by party + gender:\n",
      "candidate\n",
      "Donald Trump       0.497153\n",
      "Hillary Clinton    0.502847\n",
      "Name: weighted_prop, dtype: float64\n"
     ]
    }
   ],
   "source": [
    "def weight_by_two(d1, d2):\n",
    "    pop = dfdemographic[\n",
    "        (dfdemographic[\"Demographic_Type_1\"] == d1) &\n",
    "        (dfdemographic[\"Demographic_Type_2\"] == d2)\n",
    "    ]\n",
    "    pop_dict = dict(zip(zip(pop[\"Demographic_1\"], pop[\"Demographic_2\"]), pop[\"Electoral_Proportion\"]))\n",
    "    \n",
    "    poll_joint = dfvote.groupby([d1, d2, \"candidate\"]).size() / dfvote.groupby([d1, d2]).size()\n",
    "    poll_joint = poll_joint.reset_index(name=\"prop\")\n",
    "    \n",
    "    poll_joint[\"weight\"] = poll_joint.apply(lambda r: pop_dict.get((r[d1], r[d2]), 0), axis=1)\n",
    "    poll_joint[\"weighted_prop\"] = poll_joint[\"prop\"] * poll_joint[\"weight\"]\n",
    "    \n",
    "    result = poll_joint.groupby(\"candidate\")[\"weighted_prop\"].sum()\n",
    "    print(f\"\\nWeighted by {d1} + {d2}:\")\n",
    "    print(result.round(6))\n",
    "\n",
    "weight_by_two(\"age\", \"race\")\n",
    "weight_by_two(\"age\", \"education\")\n",
    "weight_by_two(\"race\", \"education\")\n",
    "weight_by_two(\"race\", \"gender\")\n",
    "weight_by_two(\"party\", \"gender\")"
   ]
  },
  {
   "cell_type": "markdown",
   "metadata": {},
   "source": [
    "Weighting by `age+race`, `age+education`, and `race+education` all give results around 52–53% Clinton vs. 47–48% Trump which is consistent with the dataset's overall pro-Clinton lean. Weighting by `party+gender` pulls the results much closer around a nearly a 50–50 split, which shows the strong importance of partisan balance. The `race+gender` weighting showed a 0, I think it suggests missing or mismatched categories in the population table for that combination, so it doesn’t result a meaningful estimate."
   ]
  },
  {
   "attachments": {},
   "cell_type": "markdown",
   "metadata": {
    "ExecuteTime": {
     "end_time": "2021-09-01T18:25:18.040978Z",
     "start_time": "2021-09-01T18:25:18.016981Z"
    }
   },
   "source": [
    "<font color='green'>We don't always have access to joint distributions across the population -- for example, it may be hard to estimate from past exit polls (surveys done as people are leaving the polling station) what the joint distribution of education and gender is, for example. However, access to marginal distributions are often available. \n",
    "\n",
    "As discussed in class, one strategy when you don't have access to joint distributions -- only marginals -- is to _multiply_ the marginal distributions. For example, if 50% of your population is Democratic and 50% is a woman, then pretend that 50% times 50% = 25% of your population is a Democratic women. Clearly this technique is not perfect, but it is sometimes a useful heuristic. (Hint: you can use the marginal distribution provided in dfdemographic)\n",
    "\n",
    "For the following pairs of Demographic types, report the weighting results if you use the joint distributions in dfdemographic versus if you approximate the joint distribution using the marginals. Briefly (at most 3 sentences) describe what you observe.\n",
    "\n",
    "(party, gender)\n",
    "\n",
    "(race, gender)"
   ]
  },
  {
   "attachments": {},
   "cell_type": "markdown",
   "metadata": {},
   "source": [
    "As an example output, here's the results for two other pairs of demographics (your results might be different due to rounding, but we do not expect the difference to be large):\n",
    "\n",
    "| Demo1   | Demo2     |    Joint |   Marginal |\n",
    "|:--------|:----------|---------:|-----------:|\n",
    "| age     | race      | 0.523431 |   0.525669 | \n",
    "| age     | education | 0.525068 |   0.523938 |  "
   ]
  },
  {
   "cell_type": "code",
   "execution_count": 15,
   "metadata": {},
   "outputs": [
    {
     "name": "stdout",
     "output_type": "stream",
     "text": [
      "Demo1  Demo2    Joint  Marginal\n",
      "party gender 0.502847  0.503735\n",
      " race gender      NaN  0.535620\n"
     ]
    }
   ],
   "source": [
    "marginal_dict = {}\n",
    "for d in [\"age\", \"gender\", \"party\", \"race\", \"education\"]:\n",
    "    temp = dfdemographic[\n",
    "        (dfdemographic[\"Demographic_Type_1\"] == d) & \n",
    "        (dfdemographic[\"Demographic_Type_2\"] == \"nan\")\n",
    "    ]\n",
    "    marginal_dict[d] = dict(zip(temp[\"Demographic_1\"], temp[\"Electoral_Proportion\"]))\n",
    "\n",
    "def compare_joint_vs_marginal_weighting(d1, d2):\n",
    "    # Get the joint distribution from dfdemographic\n",
    "    joint_dist = dfdemographic[\n",
    "        (dfdemographic[\"Demographic_Type_1\"] == d1) &\n",
    "        (dfdemographic[\"Demographic_Type_2\"] == d2)\n",
    "    ]\n",
    "    joint_dict = dict(zip(zip(joint_dist[\"Demographic_1\"], joint_dist[\"Demographic_2\"]), \n",
    "                         joint_dist[\"Electoral_Proportion\"]))\n",
    "    \n",
    "    # Get poll results by joint groups\n",
    "    poll_joint = dfvote.groupby([d1, d2, \"candidate\"]).size() / dfvote.groupby([d1, d2]).size()\n",
    "    poll_joint = poll_joint.reset_index(name=\"prop\")\n",
    "    \n",
    "    # Apply true joint weights\n",
    "    poll_joint[\"true_weight\"] = poll_joint.apply(lambda r: joint_dict.get((r[d1], r[d2]), 0), axis=1)\n",
    "    poll_joint[\"true_weighted\"] = poll_joint[\"prop\"] * poll_joint[\"true_weight\"]\n",
    "    \n",
    "    # Calculate the true weighted result\n",
    "    true_result = poll_joint.groupby(\"candidate\")[\"true_weighted\"].sum().round(6)\n",
    "    true_df = true_result.reset_index()\n",
    "    \n",
    "    # Calculate the product of marginals\n",
    "    poll_joint[\"marginal_weight\"] = poll_joint.apply(\n",
    "        lambda x: marginal_dict[d1].get(x[d1], 0) * marginal_dict[d2].get(x[d2], 0), \n",
    "        axis=1\n",
    "    )\n",
    "    \n",
    "    # Apply marginal weights\n",
    "    poll_joint[\"marginal_weighted\"] = poll_joint[\"prop\"] * poll_joint[\"marginal_weight\"]\n",
    "    \n",
    "    # Calculate the marginal weighted result\n",
    "    marginal_result = poll_joint.groupby(\"candidate\")[\"marginal_weighted\"].sum().round(6)\n",
    "    marginal_df = marginal_result.reset_index()\n",
    "    \n",
    "    return poll_joint, true_df, marginal_result, marginal_df\n",
    "\n",
    "def weight_marginal_product(d1, d2):\n",
    "    poll_joint = dfvote.groupby([d1, d2, \"candidate\"]).size() / dfvote.groupby([d1, d2]).size()\n",
    "    poll_joint = poll_joint.reset_index(name=\"prop\")\n",
    "    \n",
    "    poll_joint[\"marginal_weight\"] = poll_joint.apply(\n",
    "        lambda x: marginal_dict[d1].get(x[d1], 0) * marginal_dict[d2].get(x[d2], 0), \n",
    "        axis=1\n",
    "    )\n",
    "    \n",
    "    poll_joint[\"weighted_prop\"] = poll_joint[\"prop\"] * poll_joint[\"marginal_weight\"]\n",
    "    \n",
    "    result = poll_joint.groupby(\"candidate\")[\"weighted_prop\"].sum()\n",
    "    return result\n",
    "\n",
    "results = []\n",
    "\n",
    "for pair in [(\"party\", \"gender\"), (\"race\", \"gender\")]:\n",
    "    d1, d2 = pair\n",
    "    \n",
    "    joint_result = dfdemographic[\n",
    "        (dfdemographic[\"Demographic_Type_1\"] == d1) &\n",
    "        (dfdemographic[\"Demographic_Type_2\"] == d2)\n",
    "    ]\n",
    "    \n",
    "    if not joint_result.empty:\n",
    "        _, true_res, _, _ = compare_joint_vs_marginal_weighting(d1, d2)\n",
    "        joint_clinton = true_res[true_res[\"candidate\"] == \"Hillary Clinton\"][\"true_weighted\"].values[0]\n",
    "    else:\n",
    "        joint_clinton = None\n",
    "    \n",
    "    marginal_result = weight_marginal_product(d1, d2)\n",
    "    marginal_clinton = marginal_result[\"Hillary Clinton\"]\n",
    "    \n",
    "    results.append({\n",
    "        \"Demo1\": d1,\n",
    "        \"Demo2\": d2,\n",
    "        \"Joint\": joint_clinton,\n",
    "        \"Marginal\": round(marginal_clinton, 6)\n",
    "    })\n",
    "\n",
    "table = pd.DataFrame(results)\n",
    "print(table.to_string(index=False))"
   ]
  },
  {
   "cell_type": "markdown",
   "metadata": {},
   "source": [
    "For `party+gender`, the weighting results from the true joint distribution and the product of marginals are almost identical, this means that party and gender are close to independent in this sample. For `race+gender`, no joint distribution is available in the population data, so only the marginal approximation can be used. This produces a slightly higher Clinton share (~53.56%). This shows that using marginals can be a useful shortcut when joint data are missing, but it may add bias if the demographics are correlated."
   ]
  },
  {
   "attachments": {},
   "cell_type": "markdown",
   "metadata": {},
   "source": [
    "### 4) Bonus points (up to 2 points): Implement a \"cheap\" version of the MRP technique mentioned in class.\n",
    "\n",
    "<font color='green'> The above techniques use the mean answer among people who share a demographic as the estimate for that demographic. But that wastes information _across_ demographics. For example, maybe people who only have \"Some College\" are similar enough to people who have \"High School\" as to provide some useful information. \n",
    "\n",
    "First, do the following: use a logistic regression (or your favorite prediction tool) to predict candidate choice, using the demographics. You might want to convert some demographics (like education) to ordered numeric (e.g., 1, 2, 3) as opposed to using discrete categories. \n",
    "\n",
    "Here, you will earn partial bonus points by just reporting the predictions and comparing them to the means of each covariate group in the raw polling data. Give a scatter-plot, where each point is one combination of full demographics (age, gender, party, race/ethnicity, education), the X axis is the raw polling average for that combination, and the Y axis is your regression prediction for that combination.   \n",
    "\n",
    "Then, once you have predictions for each set of covariates, \"post-stratify\" to get a single population estimate by plugging them into the above weighting techniques, where you use the predictions instead of the raw averages in that cell. Report the resulting estimates if you do the 2-dimensional joint weighting (on every pair)."
   ]
  },
  {
   "cell_type": "code",
   "execution_count": null,
   "metadata": {},
   "outputs": [],
   "source": []
  },
  {
   "attachments": {},
   "cell_type": "markdown",
   "metadata": {},
   "source": [
    "### 5) Bonus points (up to 2 points): Implement full \"raking\" using all the demographic covariates, i.e., match all the marginals without assuming independence, as opposed to just one or two marginal distributions.\n",
    "\n",
    "<font color='green'> Hint: at the heart of raking is calculating a weight for each survey respondent, so that the weights, when summed up, matches the population on desired marginals as much as possible. \n",
    "\n",
    "For example, suppose we have a survey with two respondents, A likes chocolate and B hates chocolate. We know that in the population, 80\\% of people like chocolate (the number is made up). So in a representative sample with 2 respondents, we would expect to see 1.6 respondents who like chocolate. Thus, one possible thing to do is we assign A with weight 1.6 and B with weight 0.4, and then use these weights to weigh their answers to the question we care about.\n",
    "\n",
    "Of course, when the number of respondents and the number of demographic dimensions that we want to match get larger, finding the weights itself becomes harder. There are mainly two ways to do this. The first is through an iterative approach known as Iterative Proportional Fitting (IPF). IPF iterates through each demographic variable at a time, and adjusts the weights of all respondents through post stratification. IPF is easier to implement by hand by just following the instructions. The second approach is known as generalized raking, which is done through solving an optimization problem, and proposed by [Deville, J. C., Särndal, C. E., & Sautory, O. (1993)](https://www.tandfonline.com/doi/abs/10.1080/01621459.1993.10476369). This approach attempts to solve one undesirable outcome of IPF that the resulting weights may be unbalanced, which leads to higher variance in the final estimate. [This blog post](https://dev.to/potloc/generalized-raking-for-survey-weighting-2d1d) gives a nice introduction to generalized raking, while providing a code snippet for implementing it in Python (you will have to make suitable changes, of course.)"
   ]
  },
  {
   "cell_type": "code",
   "execution_count": null,
   "metadata": {},
   "outputs": [],
   "source": []
  },
  {
   "attachments": {},
   "cell_type": "markdown",
   "metadata": {},
   "source": [
    "## Part C: Uncertainty analysis, choices, and discussion"
   ]
  },
  {
   "attachments": {},
   "cell_type": "markdown",
   "metadata": {},
   "source": [
    "### 1) Education weighting analysis and \"refused\" answers"
   ]
  },
  {
   "attachments": {},
   "cell_type": "markdown",
   "metadata": {},
   "source": [
    "<font color='green'> i. In Part B, you should notice a discrepancy from what we said in class and the data -- weighting by education does _not_ seem to help much in reducing the polling average from being pro-Clinton.\n",
    "\n",
    "Here, we'll try to dig into the data to see why the methods we tried above might not be perfect, and what data you would want (such as demographic joint distribution) to do better. \n",
    "\n",
    "First, aggregate (using the groupby function) the poll results by education. Second, aggregate by education and some of the other covariates (for example, education and race, or education and party). Discuss in 4 sentences or less."
   ]
  },
  {
   "cell_type": "code",
   "execution_count": 16,
   "metadata": {},
   "outputs": [
    {
     "name": "stdout",
     "output_type": "stream",
     "text": [
      "By education:\n",
      "       education        candidate      prop\n",
      "0       College     Donald Trump  0.447619\n",
      "1       College  Hillary Clinton  0.552381\n",
      "2   High School     Donald Trump  0.465753\n",
      "3   High School  Hillary Clinton  0.534247\n",
      "4       Refused     Donald Trump  0.600000\n",
      "5       Refused  Hillary Clinton  0.400000\n",
      "6  Some College     Donald Trump  0.452756\n",
      "7  Some College  Hillary Clinton  0.547244\n",
      "\n",
      "By education+race:\n",
      "   education      race        candidate      prop\n",
      "0   College     Black     Donald Trump  0.115385\n",
      "1   College     Black  Hillary Clinton  0.884615\n",
      "2   College  Hispanic     Donald Trump  0.228070\n",
      "3   College  Hispanic  Hillary Clinton  0.771930\n",
      "4   College     Other     Donald Trump  0.333333\n",
      "5   College     Other  Hillary Clinton  0.666667\n",
      "6   College   Refused     Donald Trump  0.500000\n",
      "7   College   Refused  Hillary Clinton  0.500000\n",
      "8   College     White     Donald Trump  0.555024\n",
      "9   College     White  Hillary Clinton  0.444976\n",
      "\n",
      "By education+party:\n",
      "      education        party        candidate      prop\n",
      "0      College     Democrat     Donald Trump  0.056911\n",
      "1      College     Democrat  Hillary Clinton  0.943089\n",
      "2      College  Independent     Donald Trump  0.505376\n",
      "3      College  Independent  Hillary Clinton  0.494624\n",
      "4      College      Refused  Hillary Clinton  1.000000\n",
      "5      College   Republican     Donald Trump  0.915789\n",
      "6      College   Republican  Hillary Clinton  0.084211\n",
      "7  High School     Democrat     Donald Trump  0.098361\n",
      "8  High School     Democrat  Hillary Clinton  0.901639\n",
      "9  High School  Independent     Donald Trump  0.513514\n"
     ]
    }
   ],
   "source": [
    "edu_group = dfvote.groupby([\"education\", \"candidate\"]).size() / dfvote.groupby(\"education\").size()\n",
    "edu_group = edu_group.reset_index(name=\"prop\")\n",
    "print(\"By education:\\n\", edu_group)\n",
    "\n",
    "edu_race_group = dfvote.groupby([\"education\", \"race\", \"candidate\"]).size() / dfvote.groupby([\"education\",\"race\"]).size()\n",
    "edu_race_group = edu_race_group.reset_index(name=\"prop\")\n",
    "print(\"\\nBy education+race:\\n\", edu_race_group.head(10))\n",
    "\n",
    "edu_party_group = dfvote.groupby([\"education\", \"party\", \"candidate\"]).size() / dfvote.groupby([\"education\",\"party\"]).size()\n",
    "edu_party_group = edu_party_group.reset_index(name=\"prop\")\n",
    "print(\"\\nBy education+party:\\n\", edu_party_group.head(10))"
   ]
  },
  {
   "cell_type": "markdown",
   "metadata": {},
   "source": [
    "Weighting only by education does not fix the bias because support levels vary a lot within each education group once you consider other factors. For example, college-educated Democrats are overwhelmingly pro-Clinton, while college-educated Republicans are strongly pro-Trump. Since education weighting alone ignores these cross-group differences, it fails to reduce the overall pro-Clinton bias."
   ]
  },
  {
   "attachments": {},
   "cell_type": "markdown",
   "metadata": {},
   "source": [
    "<font color='green'> ii. You'll notice that there are some responses with \"refused,\" and that those people in particular are Trump-leaning. Furthermore, there are likely many people who refused to answer the poll at all, who do not show up in the data. The weighting techniques we used above would ignore these people. How would you adjust your procedures/estimates above to take them into account? Answer in at most 3 sentences."
   ]
  },
  {
   "cell_type": "markdown",
   "metadata": {},
   "source": [
    "People who answered “refused” lean more toward Trump, and others who refused the survey entirely are missing from the dataset. If we ignore them, our estimates understate Trump’s support. A better approach would be to model or impute the missing responses and reweight the data so that the refusal group is properly represented in the final estimates."
   ]
  },
  {
   "attachments": {},
   "cell_type": "markdown",
   "metadata": {},
   "source": [
    "<font color='green'> None of the above techniques deal with selection biases/non-response on _un-measured_ covariates. Do you think that may be an important concern in this dataset? Why or why not? Respond in 3 or fewer sentences."
   ]
  },
  {
   "cell_type": "markdown",
   "metadata": {},
   "source": [
    "Yes, it's an important concern. If people who are less likely to take surveys (for example, less-educated or rural voters) also lean more toward one candidate, then even perfect weighting on measured covariates will still miss that bias. In this dataset, non-response among Trump-leaning groups could explain why the poll consistently overestimates Clinton’s support."
   ]
  },
  {
   "attachments": {},
   "cell_type": "markdown",
   "metadata": {},
   "source": [
    "### 2) Final estimates"
   ]
  },
  {
   "attachments": {},
   "cell_type": "markdown",
   "metadata": {},
   "source": [
    "<font color='green'> Throughout this homework, you made many estimates of the same quantity -- the fraction of people who will vote for Clinton in Florida. Below, plot a histogram of all your estimates."
   ]
  },
  {
   "cell_type": "code",
   "execution_count": 17,
   "metadata": {},
   "outputs": [
    {
     "data": {
      "image/png": "[encoded data removed]",
      "text/plain": [
       "<Figure size 800x500 with 1 Axes>"
      ]
     },
     "metadata": {},
     "output_type": "display_data"
    },
    {
     "name": "stdout",
     "output_type": "stream",
     "text": [
      "                      Method  Clinton_Estimate\n",
      " Weighted by party+education          0.493899\n",
      "       Weighted by party+age          0.498809\n",
      "      Weighted by party+race          0.501547\n",
      "    Weighted by party+gender          0.502847\n",
      "  Weighted by race+education          0.514566\n",
      "        Weighted by age+race          0.523955\n",
      "   Weighted by age+education          0.525594\n",
      "      Weighted by gender+age          0.533309\n",
      "     Weighted by gender+race          0.534440\n",
      "                         Raw          0.545833\n",
      "Weighted by gender+education          0.547619\n",
      "\n",
      "Recommended single estimate (median across methods): 0.524\n"
     ]
    }
   ],
   "source": [
    "import pandas as pd\n",
    "import matplotlib.pyplot as plt\n",
    "\n",
    "def clinton_share_from_series(s):\n",
    "    total = s.sum()\n",
    "    return float(s.get(\"Hillary Clinton\", 0) / total) if total > 0 else None\n",
    "\n",
    "estimates = {}\n",
    "\n",
    "raw = dfvote[\"candidate\"].value_counts(normalize=True)\n",
    "estimates[\"Raw\"] = clinton_share_from_series(raw)\n",
    "\n",
    "for demo in [\"age\", \"gender\", \"party\", \"race\", \"education\"]:\n",
    "    pop = dfdemographic[\n",
    "        (dfdemographic[\"Demographic_Type_1\"] == demo) &\n",
    "        (dfdemographic[\"Demographic_Type_2\"].isna() | (dfdemographic[\"Demographic_Type_2\"] == \"\"))\n",
    "    ][[\"Demographic_1\", \"Electoral_Proportion\"]].rename(columns={\"Demographic_1\": demo})\n",
    "    if pop.empty or demo not in dfvote.columns:\n",
    "        continue\n",
    "\n",
    "    num = dfvote.groupby([demo, \"candidate\"]).size().rename(\"num\").reset_index()\n",
    "    den = dfvote.groupby(demo).size().rename(\"den\").reset_index()\n",
    "    tmp = num.merge(den, on=demo, how=\"left\")\n",
    "    tmp = tmp[tmp[\"den\"] > 0]\n",
    "    if tmp.empty:\n",
    "        continue\n",
    "\n",
    "    tmp = tmp.merge(pop, on=demo, how=\"left\").rename(columns={\"Electoral_Proportion\": \"weight\"})\n",
    "    tmp[\"weight\"] = tmp[\"weight\"].fillna(0)\n",
    "    tmp[\"prop\"] = tmp[\"num\"] / tmp[\"den\"]\n",
    "    tmp[\"weighted_prop\"] = tmp[\"prop\"] * tmp[\"weight\"]\n",
    "\n",
    "    res = tmp.groupby(\"candidate\")[\"weighted_prop\"].sum()\n",
    "    estimates[f\"Weighted by {demo}\"] = clinton_share_from_series(res)\n",
    "\n",
    "pairs = (dfdemographic[dfdemographic[\"Demographic_Type_2\"].notna() &\n",
    "                       (dfdemographic[\"Demographic_Type_2\"] != \"\")]\n",
    "         [[\"Demographic_Type_1\", \"Demographic_Type_2\"]].drop_duplicates())\n",
    "\n",
    "for _, r in pairs.iterrows():\n",
    "    d1, d2 = r[\"Demographic_Type_1\"], r[\"Demographic_Type_2\"]\n",
    "    if (d1 not in dfvote.columns) or (d2 not in dfvote.columns):\n",
    "        continue\n",
    "\n",
    "    pop_joint = dfdemographic[(dfdemographic[\"Demographic_Type_1\"] == d1) &\n",
    "                              (dfdemographic[\"Demographic_Type_2\"] == d2)]\n",
    "    pop_dict = dict(zip(zip(pop_joint[\"Demographic_1\"], pop_joint[\"Demographic_2\"]),\n",
    "                        pop_joint[\"Electoral_Proportion\"]))\n",
    "    if not pop_dict:\n",
    "        continue\n",
    "\n",
    "    num = dfvote.groupby([d1, d2, \"candidate\"]).size().rename(\"num\").reset_index()\n",
    "    den = dfvote.groupby([d1, d2]).size().rename(\"den\").reset_index()\n",
    "    tmp = num.merge(den, on=[d1, d2], how=\"left\")\n",
    "    tmp = tmp[tmp[\"den\"] > 0]\n",
    "    if tmp.empty:\n",
    "        continue\n",
    "\n",
    "    tmp[\"weight\"] = tmp.apply(lambda x: pop_dict.get((x[d1], x[d2]), 0), axis=1)\n",
    "    tmp[\"prop\"] = tmp[\"num\"] / tmp[\"den\"]\n",
    "    tmp[\"weighted_prop\"] = tmp[\"prop\"] * tmp[\"weight\"]\n",
    "\n",
    "    res = tmp.groupby(\"candidate\")[\"weighted_prop\"].sum()\n",
    "    estimates[f\"Weighted by {d1}+{d2}\"] = clinton_share_from_series(res)\n",
    "\n",
    "vals = [v for v in estimates.values() if v is not None]\n",
    "plt.figure(figsize=(8, 5))\n",
    "plt.hist(vals, bins=min(10, max(3, len(vals))), edgecolor=\"black\")\n",
    "plt.xlabel(\"Clinton Support (proportion)\")\n",
    "plt.ylabel(\"Count\")\n",
    "plt.title(\"Clinton Support Estimates\")\n",
    "plt.show()\n",
    "\n",
    "summary = pd.DataFrame(\n",
    "    {\"Method\": list(estimates.keys()), \"Clinton_Estimate\": list(estimates.values())}\n",
    ").sort_values(\"Clinton_Estimate\")\n",
    "print(summary.to_string(index=False))\n",
    "\n",
    "recommended = pd.Series(vals).median() if len(vals) > 0 else None\n",
    "print(\"\\nRecommended single estimate (median across methods):\",\n",
    "      None if recommended is None else round(float(recommended), 3))"
   ]
  },
  {
   "attachments": {},
   "cell_type": "markdown",
   "metadata": {},
   "source": [
    "<font color='green'> Given all your above analysis, if you were a pollster what would you report as your single estimate? "
   ]
  },
  {
   "cell_type": "markdown",
   "metadata": {},
   "source": [
    "Clinton leads Trump in Florida with about ~52.4% to ~47.6% support, based on the median of multiple weighted estimates."
   ]
  },
  {
   "attachments": {},
   "cell_type": "markdown",
   "metadata": {},
   "source": [
    "<font color='green'> Justify your choice, in at most 3 sentences"
   ]
  },
  {
   "cell_type": "markdown",
   "metadata": {},
   "source": [
    "I chose the median across all weighting methods because it smooths out the variability between different approaches and avoids over-reliance on any single adjustment. The median consistently points to Clinton at around 53%, aligning with the general direction of every method. While this choice reduces sensitivity to outliers, I still acknowledge that unmeasured biases and non-response could make the true margin narrower."
   ]
  },
  {
   "attachments": {},
   "cell_type": "markdown",
   "metadata": {},
   "source": [
    "<font color='green'> Though we did not discuss how to calculate margin of error or standard errors with weighting in this course, what would you say if someone asked you how confident you are in your estimate? You may either qualitatively answer, or try to come up with a margin of error.  "
   ]
  },
  {
   "cell_type": "markdown",
   "metadata": {},
   "source": [
    "I would say I am only moderately confident in the estimate. The different weighting methods all point to Clinton leading, which gives me some reassurance, but there are still risks from people who refused to answer or from groups not well captured in the poll. If I had to give a rough margin of error, I’d say around plus/minus 3–5 percentage points, which is typical for polls of this size."
   ]
  }
 ],
 "metadata": {
  "kernelspec": {
   "display_name": ".venv",
   "language": "python",
   "name": "python3"
  },
  "language_info": {
   "codemirror_mode": {
    "name": "ipython",
    "version": 3
   },
   "file_extension": ".py",
   "mimetype": "text/x-python",
   "name": "python",
   "nbconvert_exporter": "python",
   "pygments_lexer": "ipython3",
   "version": "3.13.7"
  },
  "varInspector": {
   "cols": {
    "lenName": 16,
    "lenType": 16,
    "lenVar": 40
   },
   "kernels_config": {
    "python": {
     "delete_cmd_postfix": "",
     "delete_cmd_prefix": "del ",
     "library": "var_list.py",
     "varRefreshCmd": "print(var_dic_list())"
    },
    "r": {
     "delete_cmd_postfix": ") ",
     "delete_cmd_prefix": "rm(",
     "library": "var_list.r",
     "varRefreshCmd": "cat(var_dic_list()) "
    }
   },
   "types_to_exclude": [
    "module",
    "function",
    "builtin_function_or_method",
    "instance",
    "_Feature"
   ],
   "window_display": false
  }
 },
 "nbformat": 4,
 "nbformat_minor": 2
}
